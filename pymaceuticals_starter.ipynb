{
 "cells": [
  {
   "cell_type": "code",
   "execution_count": 1,
   "metadata": {},
   "outputs": [
    {
     "ename": "ModuleNotFoundError",
     "evalue": "No module named 'matplotlib'",
     "output_type": "error",
     "traceback": [
      "\u001b[0;31m---------------------------------------------------------------------------\u001b[0m",
      "\u001b[0;31mModuleNotFoundError\u001b[0m                       Traceback (most recent call last)",
      "\u001b[0;32m<ipython-input-1-ff6bd5583ae4>\u001b[0m in \u001b[0;36m<module>\u001b[0;34m\u001b[0m\n\u001b[1;32m      1\u001b[0m \u001b[0;31m# Dependencies and Setup\u001b[0m\u001b[0;34m\u001b[0m\u001b[0;34m\u001b[0m\u001b[0;34m\u001b[0m\u001b[0m\n\u001b[0;32m----> 2\u001b[0;31m \u001b[0mget_ipython\u001b[0m\u001b[0;34m(\u001b[0m\u001b[0;34m)\u001b[0m\u001b[0;34m.\u001b[0m\u001b[0mrun_line_magic\u001b[0m\u001b[0;34m(\u001b[0m\u001b[0;34m'matplotlib'\u001b[0m\u001b[0;34m,\u001b[0m \u001b[0;34m'inline'\u001b[0m\u001b[0;34m)\u001b[0m\u001b[0;34m\u001b[0m\u001b[0;34m\u001b[0m\u001b[0m\n\u001b[0m\u001b[1;32m      3\u001b[0m \u001b[0;32mimport\u001b[0m \u001b[0mmatplotlib\u001b[0m\u001b[0;34m.\u001b[0m\u001b[0mpyplot\u001b[0m \u001b[0;32mas\u001b[0m \u001b[0mplt\u001b[0m\u001b[0;34m\u001b[0m\u001b[0;34m\u001b[0m\u001b[0m\n\u001b[1;32m      4\u001b[0m \u001b[0;32mimport\u001b[0m \u001b[0mpandas\u001b[0m \u001b[0;32mas\u001b[0m \u001b[0mpd\u001b[0m\u001b[0;34m\u001b[0m\u001b[0;34m\u001b[0m\u001b[0m\n\u001b[1;32m      5\u001b[0m \u001b[0;32mimport\u001b[0m \u001b[0mnumpy\u001b[0m \u001b[0;32mas\u001b[0m \u001b[0mnp\u001b[0m\u001b[0;34m\u001b[0m\u001b[0;34m\u001b[0m\u001b[0m\n",
      "\u001b[0;32m/Library/Frameworks/Python.framework/Versions/3.7/lib/python3.7/site-packages/IPython/core/interactiveshell.py\u001b[0m in \u001b[0;36mrun_line_magic\u001b[0;34m(self, magic_name, line, _stack_depth)\u001b[0m\n\u001b[1;32m   2312\u001b[0m                 \u001b[0mkwargs\u001b[0m\u001b[0;34m[\u001b[0m\u001b[0;34m'local_ns'\u001b[0m\u001b[0;34m]\u001b[0m \u001b[0;34m=\u001b[0m \u001b[0msys\u001b[0m\u001b[0;34m.\u001b[0m\u001b[0m_getframe\u001b[0m\u001b[0;34m(\u001b[0m\u001b[0mstack_depth\u001b[0m\u001b[0;34m)\u001b[0m\u001b[0;34m.\u001b[0m\u001b[0mf_locals\u001b[0m\u001b[0;34m\u001b[0m\u001b[0;34m\u001b[0m\u001b[0m\n\u001b[1;32m   2313\u001b[0m             \u001b[0;32mwith\u001b[0m \u001b[0mself\u001b[0m\u001b[0;34m.\u001b[0m\u001b[0mbuiltin_trap\u001b[0m\u001b[0;34m:\u001b[0m\u001b[0;34m\u001b[0m\u001b[0;34m\u001b[0m\u001b[0m\n\u001b[0;32m-> 2314\u001b[0;31m                 \u001b[0mresult\u001b[0m \u001b[0;34m=\u001b[0m \u001b[0mfn\u001b[0m\u001b[0;34m(\u001b[0m\u001b[0;34m*\u001b[0m\u001b[0margs\u001b[0m\u001b[0;34m,\u001b[0m \u001b[0;34m**\u001b[0m\u001b[0mkwargs\u001b[0m\u001b[0;34m)\u001b[0m\u001b[0;34m\u001b[0m\u001b[0;34m\u001b[0m\u001b[0m\n\u001b[0m\u001b[1;32m   2315\u001b[0m             \u001b[0;32mreturn\u001b[0m \u001b[0mresult\u001b[0m\u001b[0;34m\u001b[0m\u001b[0;34m\u001b[0m\u001b[0m\n\u001b[1;32m   2316\u001b[0m \u001b[0;34m\u001b[0m\u001b[0m\n",
      "\u001b[0;32m</Library/Frameworks/Python.framework/Versions/3.7/lib/python3.7/site-packages/decorator.py:decorator-gen-108>\u001b[0m in \u001b[0;36mmatplotlib\u001b[0;34m(self, line)\u001b[0m\n",
      "\u001b[0;32m/Library/Frameworks/Python.framework/Versions/3.7/lib/python3.7/site-packages/IPython/core/magic.py\u001b[0m in \u001b[0;36m<lambda>\u001b[0;34m(f, *a, **k)\u001b[0m\n\u001b[1;32m    185\u001b[0m     \u001b[0;31m# but it's overkill for just that one bit of state.\u001b[0m\u001b[0;34m\u001b[0m\u001b[0;34m\u001b[0m\u001b[0;34m\u001b[0m\u001b[0m\n\u001b[1;32m    186\u001b[0m     \u001b[0;32mdef\u001b[0m \u001b[0mmagic_deco\u001b[0m\u001b[0;34m(\u001b[0m\u001b[0marg\u001b[0m\u001b[0;34m)\u001b[0m\u001b[0;34m:\u001b[0m\u001b[0;34m\u001b[0m\u001b[0;34m\u001b[0m\u001b[0m\n\u001b[0;32m--> 187\u001b[0;31m         \u001b[0mcall\u001b[0m \u001b[0;34m=\u001b[0m \u001b[0;32mlambda\u001b[0m \u001b[0mf\u001b[0m\u001b[0;34m,\u001b[0m \u001b[0;34m*\u001b[0m\u001b[0ma\u001b[0m\u001b[0;34m,\u001b[0m \u001b[0;34m**\u001b[0m\u001b[0mk\u001b[0m\u001b[0;34m:\u001b[0m \u001b[0mf\u001b[0m\u001b[0;34m(\u001b[0m\u001b[0;34m*\u001b[0m\u001b[0ma\u001b[0m\u001b[0;34m,\u001b[0m \u001b[0;34m**\u001b[0m\u001b[0mk\u001b[0m\u001b[0;34m)\u001b[0m\u001b[0;34m\u001b[0m\u001b[0;34m\u001b[0m\u001b[0m\n\u001b[0m\u001b[1;32m    188\u001b[0m \u001b[0;34m\u001b[0m\u001b[0m\n\u001b[1;32m    189\u001b[0m         \u001b[0;32mif\u001b[0m \u001b[0mcallable\u001b[0m\u001b[0;34m(\u001b[0m\u001b[0marg\u001b[0m\u001b[0;34m)\u001b[0m\u001b[0;34m:\u001b[0m\u001b[0;34m\u001b[0m\u001b[0;34m\u001b[0m\u001b[0m\n",
      "\u001b[0;32m/Library/Frameworks/Python.framework/Versions/3.7/lib/python3.7/site-packages/IPython/core/magics/pylab.py\u001b[0m in \u001b[0;36mmatplotlib\u001b[0;34m(self, line)\u001b[0m\n\u001b[1;32m     97\u001b[0m             \u001b[0mprint\u001b[0m\u001b[0;34m(\u001b[0m\u001b[0;34m\"Available matplotlib backends: %s\"\u001b[0m \u001b[0;34m%\u001b[0m \u001b[0mbackends_list\u001b[0m\u001b[0;34m)\u001b[0m\u001b[0;34m\u001b[0m\u001b[0;34m\u001b[0m\u001b[0m\n\u001b[1;32m     98\u001b[0m         \u001b[0;32melse\u001b[0m\u001b[0;34m:\u001b[0m\u001b[0;34m\u001b[0m\u001b[0;34m\u001b[0m\u001b[0m\n\u001b[0;32m---> 99\u001b[0;31m             \u001b[0mgui\u001b[0m\u001b[0;34m,\u001b[0m \u001b[0mbackend\u001b[0m \u001b[0;34m=\u001b[0m \u001b[0mself\u001b[0m\u001b[0;34m.\u001b[0m\u001b[0mshell\u001b[0m\u001b[0;34m.\u001b[0m\u001b[0menable_matplotlib\u001b[0m\u001b[0;34m(\u001b[0m\u001b[0margs\u001b[0m\u001b[0;34m.\u001b[0m\u001b[0mgui\u001b[0m\u001b[0;34m.\u001b[0m\u001b[0mlower\u001b[0m\u001b[0;34m(\u001b[0m\u001b[0;34m)\u001b[0m \u001b[0;32mif\u001b[0m \u001b[0misinstance\u001b[0m\u001b[0;34m(\u001b[0m\u001b[0margs\u001b[0m\u001b[0;34m.\u001b[0m\u001b[0mgui\u001b[0m\u001b[0;34m,\u001b[0m \u001b[0mstr\u001b[0m\u001b[0;34m)\u001b[0m \u001b[0;32melse\u001b[0m \u001b[0margs\u001b[0m\u001b[0;34m.\u001b[0m\u001b[0mgui\u001b[0m\u001b[0;34m)\u001b[0m\u001b[0;34m\u001b[0m\u001b[0;34m\u001b[0m\u001b[0m\n\u001b[0m\u001b[1;32m    100\u001b[0m             \u001b[0mself\u001b[0m\u001b[0;34m.\u001b[0m\u001b[0m_show_matplotlib_backend\u001b[0m\u001b[0;34m(\u001b[0m\u001b[0margs\u001b[0m\u001b[0;34m.\u001b[0m\u001b[0mgui\u001b[0m\u001b[0;34m,\u001b[0m \u001b[0mbackend\u001b[0m\u001b[0;34m)\u001b[0m\u001b[0;34m\u001b[0m\u001b[0;34m\u001b[0m\u001b[0m\n\u001b[1;32m    101\u001b[0m \u001b[0;34m\u001b[0m\u001b[0m\n",
      "\u001b[0;32m/Library/Frameworks/Python.framework/Versions/3.7/lib/python3.7/site-packages/IPython/core/interactiveshell.py\u001b[0m in \u001b[0;36menable_matplotlib\u001b[0;34m(self, gui)\u001b[0m\n\u001b[1;32m   3400\u001b[0m         \"\"\"\n\u001b[1;32m   3401\u001b[0m         \u001b[0;32mfrom\u001b[0m \u001b[0mIPython\u001b[0m\u001b[0;34m.\u001b[0m\u001b[0mcore\u001b[0m \u001b[0;32mimport\u001b[0m \u001b[0mpylabtools\u001b[0m \u001b[0;32mas\u001b[0m \u001b[0mpt\u001b[0m\u001b[0;34m\u001b[0m\u001b[0;34m\u001b[0m\u001b[0m\n\u001b[0;32m-> 3402\u001b[0;31m         \u001b[0mgui\u001b[0m\u001b[0;34m,\u001b[0m \u001b[0mbackend\u001b[0m \u001b[0;34m=\u001b[0m \u001b[0mpt\u001b[0m\u001b[0;34m.\u001b[0m\u001b[0mfind_gui_and_backend\u001b[0m\u001b[0;34m(\u001b[0m\u001b[0mgui\u001b[0m\u001b[0;34m,\u001b[0m \u001b[0mself\u001b[0m\u001b[0;34m.\u001b[0m\u001b[0mpylab_gui_select\u001b[0m\u001b[0;34m)\u001b[0m\u001b[0;34m\u001b[0m\u001b[0;34m\u001b[0m\u001b[0m\n\u001b[0m\u001b[1;32m   3403\u001b[0m \u001b[0;34m\u001b[0m\u001b[0m\n\u001b[1;32m   3404\u001b[0m         \u001b[0;32mif\u001b[0m \u001b[0mgui\u001b[0m \u001b[0;34m!=\u001b[0m \u001b[0;34m'inline'\u001b[0m\u001b[0;34m:\u001b[0m\u001b[0;34m\u001b[0m\u001b[0;34m\u001b[0m\u001b[0m\n",
      "\u001b[0;32m/Library/Frameworks/Python.framework/Versions/3.7/lib/python3.7/site-packages/IPython/core/pylabtools.py\u001b[0m in \u001b[0;36mfind_gui_and_backend\u001b[0;34m(gui, gui_select)\u001b[0m\n\u001b[1;32m    274\u001b[0m     \"\"\"\n\u001b[1;32m    275\u001b[0m \u001b[0;34m\u001b[0m\u001b[0m\n\u001b[0;32m--> 276\u001b[0;31m     \u001b[0;32mimport\u001b[0m \u001b[0mmatplotlib\u001b[0m\u001b[0;34m\u001b[0m\u001b[0;34m\u001b[0m\u001b[0m\n\u001b[0m\u001b[1;32m    277\u001b[0m \u001b[0;34m\u001b[0m\u001b[0m\n\u001b[1;32m    278\u001b[0m     \u001b[0;32mif\u001b[0m \u001b[0mgui\u001b[0m \u001b[0;32mand\u001b[0m \u001b[0mgui\u001b[0m \u001b[0;34m!=\u001b[0m \u001b[0;34m'auto'\u001b[0m\u001b[0;34m:\u001b[0m\u001b[0;34m\u001b[0m\u001b[0;34m\u001b[0m\u001b[0m\n",
      "\u001b[0;31mModuleNotFoundError\u001b[0m: No module named 'matplotlib'"
     ]
    }
   ],
   "source": [
    "# Dependencies and Setup\n",
    "%matplotlib inline\n",
    "import matplotlib.pyplot as plt\n",
    "import pandas as pd\n",
    "import numpy as np\n",
    "\n",
    "# Hide warning messages in notebook\n",
    "import warnings\n",
    "warnings.filterwarnings('ignore')\n",
    "\n",
    "# File to Load (Remember to Change These)\n",
    "mouse_drug_data_to_load = \"data/mouse_drug_data.csv\"\n",
    "clinical_trial_data_to_load = \"data/clinicaltrial_data.csv\"\n",
    "\n",
    "# Read the Mouse and Drug Data and the Clinical Trial Data\n",
    "mouse_drug = pd.read_csv(\"data/mouse_drug_data.csv\")\n",
    "clinical_trial = pd.read_csv(\"data/clinicaltrial_data.csv\")\n",
    "\n",
    "# Combine the data into a single dataset\n",
    "mcc = pd.merge(clinical_trial, mouse_drug,how='outer', on='Mouse ID')\n",
    "only_four = mcc.loc[(mcc[\"Drug\"] == \"Capomulin\") | (\n",
    "    mcc[\"Drug\"] == \"Infubinol\")| (\n",
    "    mcc[\"Drug\"] == \"Ketapril\")| (\n",
    "    mcc[\"Drug\"] == \"Placebo\"), :]\n",
    "\n",
    "# Display the data table for preview\n",
    "\n",
    "only_four"
   ]
  },
  {
   "cell_type": "markdown",
   "metadata": {},
   "source": [
    "## Tumor Response to Treatment"
   ]
  },
  {
   "cell_type": "code",
   "execution_count": null,
   "metadata": {},
   "outputs": [],
   "source": [
    "# Store the Mean Tumor Volume Data Grouped by Drug and Timepoint \n",
    "combine_group_mean = only_four.groupby([\"Drug\",\"Timepoint\"]).mean()\n",
    "combine_group_mean.reset_index(level = None, inplace = True)\n",
    "\n",
    "# Convert to DataFrame\n",
    "tumor_response_mean_df = pd.DataFrame(combine_group_mean)\n",
    "organized_tumor_response= tumor_response_mean_df[[\"Drug\",\"Timepoint\",\"Tumor Volume (mm3)\"]]\n",
    "# Preview DataFrame \n",
    "organized_tumor_response"
   ]
  },
  {
   "cell_type": "code",
   "execution_count": null,
   "metadata": {},
   "outputs": [],
   "source": [
    "# Store the Standard Error of Tumor Volumes Grouped by Drug and Timepoint\n",
    "combine_group_sem = only_four.groupby([\"Drug\",\"Timepoint\"]).sem()\n",
    "combine_group_sem.reset_index(level = None, inplace = True)\n",
    "\n",
    "# Convert to DataFrame\n",
    "tumor_response_sem_tumorvol_df = pd.DataFrame(combine_group_sem)\n",
    "organized_tumor = tumor_response_sem_tumorvol_df[[\"Drug\",\"Timepoint\", \"Tumor Volume (mm3)\"]]\n",
    "# Preview DataFrame \n",
    "organized_tumor.head()"
   ]
  },
  {
   "cell_type": "code",
   "execution_count": null,
   "metadata": {},
   "outputs": [],
   "source": [
    "pivot_table = tumor_response_mean_df.pivot(index =\"Timepoint\", columns = 'Drug', values = \"Tumor Volume (mm3)\")\n",
    "pivot_table.reset_index(level = None, inplace = True)\n",
    "\n",
    "#Preview the formatted table\n",
    "pivot_table.head()"
   ]
  },
  {
   "cell_type": "code",
   "execution_count": null,
   "metadata": {},
   "outputs": [],
   "source": [
    "# Generate the Plot (with Error Bars)\n",
    "plt.figure(figsize = (10, 5))\n",
    "\n",
    "plt.errorbar(x=pivot_table['Timepoint'],y=pivot_table['Capomulin'], yerr=None, linestyle=\"--\", fmt='o',color = 'g')\n",
    "plt.errorbar(x=pivot_table['Timepoint'],y=pivot_table['Infubinol'], yerr=None, linestyle=\"--\", fmt='o',color='r')\n",
    "plt.errorbar(x=pivot_table['Timepoint'],y=pivot_table['Ketapril'], yerr=None, linestyle=\"--\",fmt='o',color='r')\n",
    "plt.errorbar(x=pivot_table['Timepoint'],y=pivot_table['Placebo'], yerr=None, linestyle=\"--\", fmt='o',color='r')\n",
    "\n",
    "plt.ylabel('Tumor Volume(mm3)')\n",
    "plt.xlabel('Time (Days)')\n",
    "plt.title('Tumor Response to Treatment')\n",
    "plt.grid()"
   ]
  },
  {
   "cell_type": "code",
   "execution_count": null,
   "metadata": {},
   "outputs": [],
   "source": [
    "# Show the Figure\n",
    "plt.show()"
   ]
  },
  {
   "cell_type": "markdown",
   "metadata": {},
   "source": [
    "![Tumor Response to Treatment](../Images/treatment.png)"
   ]
  },
  {
   "cell_type": "markdown",
   "metadata": {},
   "source": [
    "## Metastatic Response to Treatment"
   ]
  },
  {
   "cell_type": "code",
   "execution_count": null,
   "metadata": {},
   "outputs": [],
   "source": [
    "# Store the Mean Met. Site Data Grouped by Drug and Timepoint \n",
    "combine_group_mean_met= only_four.groupby([\"Drug\",\"Timepoint\"]).mean()\n",
    "\n",
    "# Convert to DataFrame\n",
    "met_response_mean_df = pd.DataFrame(combine_group_mean_met[\"Metastatic Sites\"])\n",
    "\n",
    "# Preview DataFrame \n",
    "met_response_mean_df.head()"
   ]
  },
  {
   "cell_type": "code",
   "execution_count": null,
   "metadata": {},
   "outputs": [],
   "source": []
  },
  {
   "cell_type": "code",
   "execution_count": null,
   "metadata": {},
   "outputs": [],
   "source": [
    "# Store the Standard Error associated with Met. Sites Grouped by Drug and Timepoint \n",
    "combine_group_sem = only_four.groupby([\"Drug\",\"Timepoint\"]).sem()\n",
    "combine_group_sem.reset_index(level = None, inplace = True)\n",
    "\n",
    "# Convert to DataFrame\n",
    "tumor_response_sem_tumorvol_df = pd.DataFrame(combine_group_sem)\n",
    "organized_tumor= tumor_response_sem_tumorvol_df[[\"Drug\",\"Timepoint\",\"Metastatic Sites\"]]\n",
    "# Preview DataFrame \n",
    "organized_tumor.head()"
   ]
  },
  {
   "cell_type": "code",
   "execution_count": null,
   "metadata": {},
   "outputs": [],
   "source": [
    "# Minor Data Munging to Re-Format the Data Frames\n",
    "# Preview that Reformatting worked\n",
    "# Store the Mean \"Tumor Volume Data\" Grouped by Drug and Timepoint \n",
    "met_response_mean_df.reset_index(level = None, inplace = True)\n",
    "met_response_mean_df2 = pd.DataFrame(combine_group_mean)\n",
    "\n",
    "\n",
    "pivot_table_met = met_response_mean_df2.pivot(index =\"Timepoint\", columns = 'Drug', values = \"Metastatic Sites\")\n",
    "pivot_table_met.reset_index(level = None, inplace = True)\n",
    "\n",
    "#Preview the formatted table\n",
    "pivot_table_met.head()"
   ]
  },
  {
   "cell_type": "code",
   "execution_count": null,
   "metadata": {},
   "outputs": [],
   "source": [
    "plt.figure(figsize = (10, 5))\n",
    "#yerr = standard error DF\n",
    "plt.errorbar(x=pivot_table_met['Timepoint'],y=pivot_table_met['Capomulin'], yerr=None['Capomulin'], linestyle=\"--\", fmt='o')\n",
    "plt.errorbar(x=pivot_table_met['Timepoint'],y=pivot_table_met['Infubinol'], yerr=None, linestyle=\"--\", fmt='o')\n",
    "plt.errorbar(x=pivot_table_met['Timepoint'],y=pivot_table_met['Ketapril'], yerr=None, linestyle=\"--\",fmt='o')\n",
    "plt.errorbar(x=pivot_table_met['Timepoint'],y=pivot_table_met['Placebo'], yerr=None, linestyle=\"--\", fmt='o')\n",
    "\n",
    "plt.ylabel(\"Met Sites\")\n",
    "plt.xlabel('Time (Days)')\n",
    "plt.title('Metastatic Response to Treatment')      \n",
    "plt.show()"
   ]
  },
  {
   "cell_type": "markdown",
   "metadata": {},
   "source": [
    "![Metastatic Spread During Treatment](../Images/spread.png)"
   ]
  },
  {
   "cell_type": "markdown",
   "metadata": {},
   "source": [
    "## Survival Rates"
   ]
  },
  {
   "cell_type": "code",
   "execution_count": null,
   "metadata": {},
   "outputs": [],
   "source": [
    "# Store the Count of Mice Grouped by Drug and Timepoint (W can pass any metric)\n",
    "\n",
    "micecount=only_four.groupby([\"Drug\",\"Timepoint\"]).count()\n",
    "\n",
    "# Convert to DataFrame\n",
    "micecount_df=pd.DataFrame(micecount[\"Mouse ID\"])\n",
    "micecount_df.reset_index(inplace=True)\n",
    "\n",
    "#Preview dataframe\n",
    "micecount_df.head()"
   ]
  },
  {
   "cell_type": "code",
   "execution_count": null,
   "metadata": {},
   "outputs": [],
   "source": []
  },
  {
   "cell_type": "code",
   "execution_count": null,
   "metadata": {},
   "outputs": [],
   "source": [
    "# Minor Data Munging to Re-Format the Data Frames\n",
    "pivot_table_mice = micecount_df.pivot(index =\"Timepoint\", columns = 'Drug', values = \"Mouse ID\")\n",
    "pivot_table_mice.reset_index(level = None, inplace = True)\n",
    "#Preview the formatted table\n",
    "pivot_table_mice.head()"
   ]
  },
  {
   "cell_type": "code",
   "execution_count": null,
   "metadata": {},
   "outputs": [],
   "source": [
    "survival_fourdrugs_df = pivot_table_mice.astype(float)\n",
    "survival_fourdrugs_df[\"Capomulin_percent\"]=pivot_table_mice[\"Capomulin\"]/pivot_table_mice[\"Capomulin\"].iloc[0] * 100\n",
    "survival_fourdrugs_df[\"Infubinol_percent\"]=pivot_table_mice[\"Infubinol\"]/pivot_table_mice[\"Infubinol\"].iloc[0] * 100\n",
    "survival_fourdrugs_df[\"Ketapril_percent\"]=pivot_table_mice[\"Ketapril\"]/pivot_table_mice[\"Ketapril\"].iloc[0] * 100\n",
    "survival_fourdrugs_df[\"Placebo_percent\"]=pivot_table_mice[\"Placebo\"]/pivot_table_mice[\"Placebo\"].iloc[0] * 100\n",
    "survival_fourdrugs_df"
   ]
  },
  {
   "cell_type": "markdown",
   "metadata": {},
   "source": [
    "![Metastatic Spread During Treatment](../Images/survival.png)"
   ]
  },
  {
   "cell_type": "markdown",
   "metadata": {},
   "source": [
    "## Summary Bar Graph"
   ]
  },
  {
   "cell_type": "code",
   "execution_count": null,
   "metadata": {},
   "outputs": [],
   "source": [
    "# Calculate the percent changes for each drug\n",
    "\n",
    "# Display the data to confirm\n"
   ]
  },
  {
   "cell_type": "code",
   "execution_count": null,
   "metadata": {},
   "outputs": [],
   "source": []
  },
  {
   "cell_type": "code",
   "execution_count": null,
   "metadata": {},
   "outputs": [],
   "source": [
    "# Store all Relevant Percent Changes into a Tuple\n",
    "Capomulin_percent=(table_fourdrugs[\"Capomulin\"].iloc[9]-table_fourdrugs[\"Capomulin\"].iloc[0])/table_fourdrugs[\"Capomulin\"].iloc[0]*100\n",
    "Infubinol_percent=(table_fourdrugs[\"Infubinol\"].iloc[9]-table_fourdrugs[\"Infubinol\"].iloc[0])/table_fourdrugs[\"Infubinol\"].iloc[0]*100\n",
    "Ketapril_percent=(table_fourdrugs[\"Ketapril\"].iloc[9]-table_fourdrugs[\"Ketapril\"].iloc[0])/table_fourdrugs[\"Ketapril\"].iloc[0]*100\n",
    "Placebo_percent=(table_fourdrugs[\"Placebo\"].iloc[9]-table_fourdrugs[\"Placebo\"].iloc[0])/table_fourdrugs[\"Placebo\"].iloc[0]*100\n",
    "percent_tuple = {'Capomulin': Capomulin_percent, 'Infubinol': Infubinol_percent, 'Ketapril': Ketapril_percent, 'Placebo': Placebo_percent}\n",
    "percentchange_tumorvolume = pd.Series(percent_tuple)\n",
    "summary_bar = plt.subplot()\n",
    "x_axis = np.arange(0, len(testdrugs))\n",
    "# Splice the data between passing and failing drugs\n",
    "# Orient widths. Add labels, tick marks, etc. \n",
    "\n",
    "tick_locations = []\n",
    "for x in x_axis:\n",
    "    tick_locations.append(x + 0.5)\n",
    "plt.xticks(tick_locations, testdrugs)\n",
    "colors = []\n",
    "for value in percentchange_tumorvolume:\n",
    "    if value >= 0 :\n",
    "        colors.append('r')\n",
    "    else:\n",
    "        colors.append('g')\n",
    "        \n",
    "percent_change = summary_bar.bar(x_axis, percentchange_tumorvolume, color=colors, align=\"edge\")\n",
    "\n",
    "plt.title(\"Tumor Change Over 45 Days Treatment\")\n",
    "plt.ylabel(\"% Tumor Volume Change\")\n",
    "plt.xlim(-0.25, len(testdrugs))\n",
    "plt.ylim(-30, max(percentchange_tumorvolume) + 20)\n",
    "plt.grid()\n",
    "\n",
    "plt.show()\n"
   ]
  },
  {
   "cell_type": "markdown",
   "metadata": {},
   "source": [
    "![Metastatic Spread During Treatment](../Images/change.png)"
   ]
  },
  {
   "cell_type": "code",
   "execution_count": null,
   "metadata": {},
   "outputs": [],
   "source": []
  }
 ],
 "metadata": {
  "anaconda-cloud": {},
  "kernelspec": {
   "display_name": "Python 3",
   "language": "python",
   "name": "python3"
  },
  "language_info": {
   "codemirror_mode": {
    "name": "ipython",
    "version": 3
   },
   "file_extension": ".py",
   "mimetype": "text/x-python",
   "name": "python",
   "nbconvert_exporter": "python",
   "pygments_lexer": "ipython3",
   "version": "3.7.4"
  }
 },
 "nbformat": 4,
 "nbformat_minor": 1
}
